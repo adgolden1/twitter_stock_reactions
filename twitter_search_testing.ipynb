{
 "cells": [
  {
   "cell_type": "code",
   "execution_count": 1,
   "metadata": {},
   "outputs": [],
   "source": [
    "from datetime import datetime, timedelta\n",
    "import requests\n",
    "import pandas as pd"
   ]
  },
  {
   "cell_type": "code",
   "execution_count": 22,
   "metadata": {},
   "outputs": [],
   "source": [
    "def get_data(tweet):\n",
    "    data = {\n",
    "        'id': tweet['id'],\n",
    "        'created_at': tweet['created_at'],\n",
    "        'text': tweet['text']\n",
    "    }\n",
    "    return data"
   ]
  },
  {
   "cell_type": "code",
   "execution_count": 3,
   "metadata": {},
   "outputs": [],
   "source": [
    "with open('C:\\\\Users\\\\AlexGolden\\\\Dropbox (BOSTON UNIVERSITY)\\\\twitter_stocks_project\\\\bearer_token.txt') as fp:\n",
    "    bearer_token = fp.read()"
   ]
  },
  {
   "cell_type": "code",
   "execution_count": 5,
   "metadata": {},
   "outputs": [],
   "source": [
    "now = datetime.now()\n",
    "last_week = now - timedelta(days = 7)\n",
    "two_weeks_ago = last_week - timedelta(days = 7)"
   ]
  },
  {
   "cell_type": "code",
   "execution_count": 60,
   "metadata": {},
   "outputs": [],
   "source": [
    "endpoint = 'https://api.twitter.com/2/tweets/search/all'\n",
    "headers = {'authorization': f'Bearer {bearer_token}'}\n",
    "params = {\n",
    "    'query': '($tsla) (lang:en)',\n",
    "    'max_results': '100',\n",
    "    'tweet.fields':'created_at,lang'\n",
    "}"
   ]
  },
  {
   "cell_type": "code",
   "execution_count": 61,
   "metadata": {},
   "outputs": [],
   "source": [
    "dtformat = '%Y-%m-%dT%H:%M:%SZ'"
   ]
  },
  {
   "cell_type": "code",
   "execution_count": 62,
   "metadata": {},
   "outputs": [],
   "source": [
    "params['end_time'] = (now - timedelta(days = 9)).strftime(dtformat)\n",
    "params['start_time'] = (now - timedelta(days = 9,minutes = 60)).strftime(dtformat)"
   ]
  },
  {
   "cell_type": "code",
   "execution_count": 63,
   "metadata": {},
   "outputs": [
    {
     "name": "stdout",
     "output_type": "stream",
     "text": [
      "2021-06-02T10:51:00Z\n",
      "2021-06-02T11:51:00Z\n"
     ]
    }
   ],
   "source": [
    "print(params['start_time'])\n",
    "print(params['end_time'])"
   ]
  },
  {
   "cell_type": "code",
   "execution_count": 64,
   "metadata": {},
   "outputs": [],
   "source": [
    "response = requests.get(endpoint,\n",
    "                       params=params,\n",
    "                       headers=headers)"
   ]
  },
  {
   "cell_type": "code",
   "execution_count": 65,
   "metadata": {},
   "outputs": [],
   "source": [
    "df = pd.DataFrame()"
   ]
  },
  {
   "cell_type": "code",
   "execution_count": 66,
   "metadata": {},
   "outputs": [],
   "source": [
    "for tweet in response.json()['data']:\n",
    "    row = get_data(tweet)\n",
    "    df = df.append(row,ignore_index = True)"
   ]
  },
  {
   "cell_type": "code",
   "execution_count": 59,
   "metadata": {},
   "outputs": [
    {
     "data": {
      "text/plain": [
       "{'errors': [{'parameters': {'max_results': ['1000']},\n",
       "   'message': 'The `max_results` query parameter value [1000] is not between 10 and 500'}],\n",
       " 'title': 'Invalid Request',\n",
       " 'detail': 'One or more parameters to your request was invalid.',\n",
       " 'type': 'https://api.twitter.com/2/problems/invalid-request'}"
      ]
     },
     "execution_count": 59,
     "metadata": {},
     "output_type": "execute_result"
    }
   ],
   "source": [
    "response.json()"
   ]
  },
  {
   "cell_type": "code",
   "execution_count": 67,
   "metadata": {},
   "outputs": [
    {
     "data": {
      "text/plain": [
       "{'created_at': '2021-06-02T11:27:45.000Z',\n",
       " 'id': '1400051507496734722',\n",
       " 'text': 'A recall is issued when a manufacturer or NHTSA determines that a vehicle, equipment, car seat, or tire creates an unreasonable safety risk or fails to meet minimum safety standards. $TSLA https://t.co/188ufNps10',\n",
       " 'lang': 'en'}"
      ]
     },
     "execution_count": 67,
     "metadata": {},
     "output_type": "execute_result"
    }
   ],
   "source": [
    "tweet"
   ]
  },
  {
   "cell_type": "code",
   "execution_count": 26,
   "metadata": {},
   "outputs": [
    {
     "data": {
      "text/plain": [
       "'@elonmusk Someone please use my referral link to join. You will get free stonks and possibly win a #Tesla  #Model3 $TSLA @Tesla @elonmusk   https://t.co/FRyh9Zwdp1'"
      ]
     },
     "execution_count": 26,
     "metadata": {},
     "output_type": "execute_result"
    }
   ],
   "source": [
    "df.iloc[4]['text']"
   ]
  },
  {
   "cell_type": "code",
   "execution_count": null,
   "metadata": {},
   "outputs": [],
   "source": []
  }
 ],
 "metadata": {
  "kernelspec": {
   "display_name": "Python 3",
   "language": "python",
   "name": "python3"
  },
  "language_info": {
   "codemirror_mode": {
    "name": "ipython",
    "version": 3
   },
   "file_extension": ".py",
   "mimetype": "text/x-python",
   "name": "python",
   "nbconvert_exporter": "python",
   "pygments_lexer": "ipython3",
   "version": "3.8.5"
  }
 },
 "nbformat": 4,
 "nbformat_minor": 4
}

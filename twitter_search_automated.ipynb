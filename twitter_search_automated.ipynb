{
 "cells": [
  {
   "cell_type": "code",
   "execution_count": 1,
   "metadata": {},
   "outputs": [],
   "source": [
    "from datetime import datetime, timedelta\n",
    "import requests\n",
    "import pandas as pd\n",
    "import time\n",
    "import logging\n",
    "log = logging.getLogger(__name__)"
   ]
  },
  {
   "cell_type": "code",
   "execution_count": 11,
   "metadata": {},
   "outputs": [],
   "source": [
    "with open('/Users/okdamava/Downloads/twitter_stock_reactions-main/bearer_token.txt') as fp:\n",
    "    bearer_token = fp.read()\n",
    "    \n",
    "dtformat = '%Y-%m-%dT%H:%M:%SZ'\n",
    "    \n",
    "def get_data(tweet):\n",
    "    data = {\n",
    "        'id': tweet['id'],\n",
    "        'created_at': tweet['created_at'],\n",
    "        'text': tweet['text']\n",
    "    }\n",
    "    return data\n",
    "\n",
    "def gather_tweets(search_term,start_time,end_time):\n",
    "    endpoint = 'https://api.twitter.com/2/tweets/search/all'\n",
    "    headers = {'authorization': f'Bearer {bearer_token}'}\n",
    "    params = {\n",
    "    'max_results': '500',\n",
    "    'tweet.fields':'created_at,lang'\n",
    "    }\n",
    "    params['query'] = search_term\n",
    "    params['end_time'] = end_time\n",
    "    params['start_time'] = start_time\n",
    "    \n",
    "    response = requests.get(endpoint,\n",
    "                       params=params,\n",
    "                       headers=headers)\n",
    "   \n",
    "    return response\n",
    "        \n",
    "def append_tweets(search_term, ending, num_queries, data_frame):\n",
    "    \n",
    "    remaining_calls = None\n",
    "    reset_time = None\n",
    "    \n",
    "    for i in range(num_queries):\n",
    "        end_temp = ending - timedelta(minutes = i*60)\n",
    "        end_time = end_temp.strftime(dtformat)\n",
    "        start_time = (end_temp - timedelta(minutes = 60)).strftime(dtformat)\n",
    "        #print('start time = ', start_time)\n",
    "        #print('end time = ', end_time)\n",
    "        \n",
    "        if (reset_time is not None and remaining_calls is not None \n",
    "            and remaining_calls < 1):\n",
    "            \n",
    "            sleep_time = int(reset_time) - int(time.time())\n",
    "            if sleep_time > 0:\n",
    "                log.warning(f\"Rate limit reached. Sleeping for: {sleep_time}\")\n",
    "                time.sleep(sleep_time + 1)  # Sleep for an extra second\n",
    "        \n",
    "        response = gather_tweets(search_term,start_time,end_time)\n",
    "        \n",
    "        rem_calls = response.headers.get('x-rate-limit-remaining')\n",
    "        if rem_calls is not None:\n",
    "            remaining_calls = int(rem_calls)\n",
    "        elif remaining_calls is not None:\n",
    "            remaining_calls -= 1\n",
    "            \n",
    "        reset_time = response.headers.get('x-rate-limit-reset')\n",
    "        if reset_time is not None:\n",
    "            reset_time = int(reset_time)\n",
    "            \n",
    "        print(remaining_calls)\n",
    "        \n",
    "        for tweet in response.json()['data']:\n",
    "            if tweet['text'][:2] != 'RT':\n",
    "                row = get_data(tweet)\n",
    "                data_frame = data_frame.append(row,ignore_index = True)\n",
    "        \n",
    "        if i<num_queries-1: time.sleep(1) #wait 1 second for each iteration to avoid overloading\n",
    "        \n",
    "    return data_frame\n",
    "        "
   ]
  },
  {
   "cell_type": "code",
   "execution_count": 20,
   "metadata": {},
   "outputs": [
    {
     "name": "stdout",
     "output_type": "stream",
     "text": [
      "start time =  2021-06-21T12:02:59Z\n",
      "end time =  2021-06-21T13:02:59Z\n"
     ]
    }
   ],
   "source": [
    "end = datetime.now() - timedelta(days = 1)\n",
    "df = pd.DataFrame()\n",
    "df = append_tweets('($tsla) (lang:en)', end, 400 ,df)"
   ]
  },
  {
   "cell_type": "code",
   "execution_count": 21,
   "metadata": {},
   "outputs": [
    {
     "name": "stdout",
     "output_type": "stream",
     "text": [
      "(410, 3)\n"
     ]
    },
    {
     "data": {
      "text/html": [
       "<div>\n",
       "<style scoped>\n",
       "    .dataframe tbody tr th:only-of-type {\n",
       "        vertical-align: middle;\n",
       "    }\n",
       "\n",
       "    .dataframe tbody tr th {\n",
       "        vertical-align: top;\n",
       "    }\n",
       "\n",
       "    .dataframe thead th {\n",
       "        text-align: right;\n",
       "    }\n",
       "</style>\n",
       "<table border=\"1\" class=\"dataframe\">\n",
       "  <thead>\n",
       "    <tr style=\"text-align: right;\">\n",
       "      <th></th>\n",
       "      <th>created_at</th>\n",
       "      <th>id</th>\n",
       "      <th>text</th>\n",
       "    </tr>\n",
       "  </thead>\n",
       "  <tbody>\n",
       "    <tr>\n",
       "      <th>0</th>\n",
       "      <td>2021-06-21T13:02:54.000Z</td>\n",
       "      <td>1406960821737988110</td>\n",
       "      <td>RT @EliteOptions2: $FVRR - Above 228 - Swing T...</td>\n",
       "    </tr>\n",
       "    <tr>\n",
       "      <th>1</th>\n",
       "      <td>2021-06-21T13:02:52.000Z</td>\n",
       "      <td>1406960811386589186</td>\n",
       "      <td>🔴LIVE Pre Market-Stock Updates-News \\n6/21/202...</td>\n",
       "    </tr>\n",
       "    <tr>\n",
       "      <th>2</th>\n",
       "      <td>2021-06-21T13:02:49.000Z</td>\n",
       "      <td>1406960801785675786</td>\n",
       "      <td>RT @EliteOptions2: $DOCU - Above 271 - Trade I...</td>\n",
       "    </tr>\n",
       "    <tr>\n",
       "      <th>3</th>\n",
       "      <td>2021-06-21T13:02:44.000Z</td>\n",
       "      <td>1406960780528918534</td>\n",
       "      <td>RT @EliteOptions2: $SQ - Above 236 - Trade Ide...</td>\n",
       "    </tr>\n",
       "    <tr>\n",
       "      <th>4</th>\n",
       "      <td>2021-06-21T13:02:42.000Z</td>\n",
       "      <td>1406960770219483136</td>\n",
       "      <td>RT @TheStreet: The surprising thing that could...</td>\n",
       "    </tr>\n",
       "  </tbody>\n",
       "</table>\n",
       "</div>"
      ],
      "text/plain": [
       "                 created_at                   id  \\\n",
       "0  2021-06-21T13:02:54.000Z  1406960821737988110   \n",
       "1  2021-06-21T13:02:52.000Z  1406960811386589186   \n",
       "2  2021-06-21T13:02:49.000Z  1406960801785675786   \n",
       "3  2021-06-21T13:02:44.000Z  1406960780528918534   \n",
       "4  2021-06-21T13:02:42.000Z  1406960770219483136   \n",
       "\n",
       "                                                text  \n",
       "0  RT @EliteOptions2: $FVRR - Above 228 - Swing T...  \n",
       "1  🔴LIVE Pre Market-Stock Updates-News \\n6/21/202...  \n",
       "2  RT @EliteOptions2: $DOCU - Above 271 - Trade I...  \n",
       "3  RT @EliteOptions2: $SQ - Above 236 - Trade Ide...  \n",
       "4  RT @TheStreet: The surprising thing that could...  "
      ]
     },
     "execution_count": 21,
     "metadata": {},
     "output_type": "execute_result"
    }
   ],
   "source": [
    "print(df.shape)\n",
    "df.head()"
   ]
  },
  {
   "cell_type": "code",
   "execution_count": null,
   "metadata": {},
   "outputs": [],
   "source": []
  }
 ],
 "metadata": {
  "kernelspec": {
   "display_name": "Python 3",
   "language": "python",
   "name": "python3"
  },
  "language_info": {
   "codemirror_mode": {
    "name": "ipython",
    "version": 3
   },
   "file_extension": ".py",
   "mimetype": "text/x-python",
   "name": "python",
   "nbconvert_exporter": "python",
   "pygments_lexer": "ipython3",
   "version": "3.8.5"
  }
 },
 "nbformat": 4,
 "nbformat_minor": 4
}

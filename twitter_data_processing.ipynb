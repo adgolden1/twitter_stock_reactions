{
 "cells": [
  {
   "cell_type": "code",
   "execution_count": 1,
   "metadata": {},
   "outputs": [],
   "source": [
    "import numpy as np\n",
    "import pandas as pd\n",
    "import datetime\n",
    "import yfinance as yf\n",
    "from sklearn.linear_model import LinearRegression\n",
    "import matplotlib.pyplot as plt"
   ]
  },
  {
   "cell_type": "code",
   "execution_count": 2,
   "metadata": {},
   "outputs": [],
   "source": [
    "df_mmm = pd.read_csv('twitter_df_mmm.csv', parse_dates=['created_at'])"
   ]
  },
  {
   "cell_type": "code",
   "execution_count": 3,
   "metadata": {},
   "outputs": [
    {
     "data": {
      "text/plain": [
       "(5231,)"
      ]
     },
     "execution_count": 3,
     "metadata": {},
     "output_type": "execute_result"
    }
   ],
   "source": [
    "df_mmm['created_at'].shape"
   ]
  },
  {
   "cell_type": "code",
   "execution_count": 4,
   "metadata": {},
   "outputs": [],
   "source": [
    "def get_prices_prev_day(ticker_df,final_datetime,db_dt = 30*60):\n",
    "    # final datetime should be in datetime objects\n",
    "    # db_dt is the sampling frequency of the database in seconds\n",
    "    final_datetime = final_datetime.replace(microsecond = 0)\n",
    "    \n",
    "    # get the index of the last entry before the tweet\n",
    "    final_dt_idx = ticker_df.index.get_loc(ticker_df[ticker_df.index <= str(final_datetime)].iloc[-1].name)\n",
    "    \n",
    "    # get the index of the entry \"one day\" before the tweet\n",
    "    # \"one day\" in quotes because it ignores time gaps like time between open/close, weekends, etc\n",
    "    # a trading day is 6.5 hours long (9:30-4:00)\n",
    "    one_day_idxs = int(3600*6.5/db_dt)\n",
    "    start_dt_idx = final_dt_idx - one_day_idxs\n",
    "    \n",
    "    # just get the opening prices for that time period\n",
    "    return ticker_df['Open'].iloc[start_dt_idx:final_dt_idx]\n",
    "\n",
    "def generate_ticker_db(symbol,first_dt,last_dt):\n",
    "    # symbol should be a string\n",
    "    # first_dt & last_dt should be dates of the earliest and latest times we need (not including times within the day)\n",
    "    # they should be strings of the form \"YYYY-MM-DD\"\n",
    "    # note: last_dt should be the day following the last day\n",
    "    # this probably isn't that necessary though, it seems like getting the ticker history directly is easy enough\n",
    "    tick = yf.Ticker(symbol)\n",
    "    ticker_db = tick.history(interval = '30m',start = first_dt,end = last_dt)\n",
    "    return ticker_db\n",
    "\n",
    "def inc_or_dec_prices(ticker_db,dt):\n",
    "    # function for returning 0 or 1 based on whether the price data for a specific ticker increases or decreases\n",
    "    # datetime should be a datetime object corresponding to a tweet\n",
    "    prices = get_prices_prev_day(ticker_db,dt).to_numpy()\n",
    "    idxs = np.arange(prices.size)\n",
    "    reg = LinearRegression().fit(idxs.reshape(-1,1), prices.reshape(-1,1))\n",
    "    slope = reg.coef_[0,0]\n",
    "    return np.heaviside(slope,0.5)"
   ]
  },
  {
   "cell_type": "code",
   "execution_count": 7,
   "metadata": {},
   "outputs": [
    {
     "name": "stdout",
     "output_type": "stream",
     "text": [
      "2021-07-09\n",
      "2021-09-05\n"
     ]
    }
   ],
   "source": [
    "start_time_0 = (datetime.datetime.now()-datetime.timedelta(days = 58)).strftime('%Y-%m-%d')\n",
    "print(start_time_0)\n",
    "end_time_0 = datetime.datetime.now().strftime('%Y-%m-%d')\n",
    "print(end_time_0)"
   ]
  },
  {
   "cell_type": "code",
   "execution_count": 9,
   "metadata": {},
   "outputs": [
    {
     "name": "stdout",
     "output_type": "stream",
     "text": [
      "2021-07-15\n",
      "2021-07-19\n"
     ]
    }
   ],
   "source": [
    "start_time_1 = (df_mmm['created_at'].min()-datetime.timedelta(days = 2)).strftime('%Y-%m-%d')\n",
    "print(start_time_1)\n",
    "end_time_1 = (datetime.datetime.now()-datetime.timedelta(days = 48)).strftime('%Y-%m-%d')\n",
    "print(end_time_1)"
   ]
  },
  {
   "cell_type": "code",
   "execution_count": 11,
   "metadata": {},
   "outputs": [
    {
     "data": {
      "text/plain": [
       "'2021-07-15'"
      ]
     },
     "execution_count": 11,
     "metadata": {},
     "output_type": "execute_result"
    }
   ],
   "source": [
    "start_time_1"
   ]
  },
  {
   "cell_type": "code",
   "execution_count": 12,
   "metadata": {},
   "outputs": [],
   "source": [
    "tick = yf.Ticker('MMM')\n",
    "ticker_db_0 = tick.history(interval = '30m',start = start_time_0,end = end_time_0)"
   ]
  },
  {
   "cell_type": "code",
   "execution_count": 13,
   "metadata": {},
   "outputs": [],
   "source": [
    "slope_labels = np.zeros(df_mmm['created_at'].shape)"
   ]
  },
  {
   "cell_type": "code",
   "execution_count": 14,
   "metadata": {},
   "outputs": [
    {
     "data": {
      "text/plain": [
       "Timestamp('2021-09-03 22:30:43+0000', tz='UTC')"
      ]
     },
     "execution_count": 14,
     "metadata": {},
     "output_type": "execute_result"
    }
   ],
   "source": [
    "df_mmm.iloc[0]['created_at']"
   ]
  },
  {
   "cell_type": "code",
   "execution_count": 15,
   "metadata": {},
   "outputs": [
    {
     "data": {
      "text/plain": [
       "1.0"
      ]
     },
     "execution_count": 15,
     "metadata": {},
     "output_type": "execute_result"
    }
   ],
   "source": [
    "inc_or_dec_prices(ticker_db_0,df_mmm.iloc[0]['created_at'])"
   ]
  },
  {
   "cell_type": "code",
   "execution_count": 16,
   "metadata": {},
   "outputs": [],
   "source": [
    "prices = get_prices_prev_day(ticker_db_0,df_mmm.iloc[0]['created_at']).to_numpy()\n",
    "idxs = np.arange(prices.size)\n",
    "reg = LinearRegression().fit(idxs.reshape(-1,1), prices.reshape(-1,1))\n",
    "slope = reg.coef_[0,0]"
   ]
  },
  {
   "cell_type": "code",
   "execution_count": 17,
   "metadata": {},
   "outputs": [
    {
     "data": {
      "text/plain": [
       "[<matplotlib.lines.Line2D at 0x245f5fa1490>]"
      ]
     },
     "execution_count": 17,
     "metadata": {},
     "output_type": "execute_result"
    },
    {
     "data": {
      "image/png": "[encoded data removed]",
      "text/plain": [
       "<Figure size 432x288 with 1 Axes>"
      ]
     },
     "metadata": {
      "needs_background": "light"
     },
     "output_type": "display_data"
    }
   ],
   "source": [
    "plt.plot(prices)"
   ]
  },
  {
   "cell_type": "code",
   "execution_count": 18,
   "metadata": {},
   "outputs": [
    {
     "data": {
      "text/plain": [
       "0.11576901949368985"
      ]
     },
     "execution_count": 18,
     "metadata": {},
     "output_type": "execute_result"
    }
   ],
   "source": [
    "slope"
   ]
  },
  {
   "cell_type": "code",
   "execution_count": 19,
   "metadata": {},
   "outputs": [],
   "source": [
    "mintime = (datetime.datetime.now()-datetime.timedelta(days = 58)).timestamp()\n",
    "for i in range(slope_labels.size):\n",
    "    dt = df_mmm.iloc[i]['created_at']\n",
    "    if (dt-datetime.timedelta(days = 1)).timestamp() > mintime:\n",
    "        slope_labels[i] = inc_or_dec_prices(ticker_db_0,df_mmm.iloc[i]['created_at'])\n",
    "    else:\n",
    "        slope_labels[i] = np.nan"
   ]
  },
  {
   "cell_type": "code",
   "execution_count": 20,
   "metadata": {},
   "outputs": [],
   "source": [
    "df_mmm['slope_labels'] = slope_labels"
   ]
  },
  {
   "cell_type": "code",
   "execution_count": 21,
   "metadata": {},
   "outputs": [],
   "source": [
    "df_mmm.to_csv('twitter_df_mmm_labeled.csv')"
   ]
  },
  {
   "cell_type": "code",
   "execution_count": 53,
   "metadata": {},
   "outputs": [
    {
     "data": {
      "text/plain": [
       "Index(['Unnamed: 0', 'created_at', 'id', 'text', 'slope_labels'], dtype='object')"
      ]
     },
     "execution_count": 53,
     "metadata": {},
     "output_type": "execute_result"
    }
   ],
   "source": [
    "df_mmm.keys()"
   ]
  },
  {
   "cell_type": "code",
   "execution_count": 47,
   "metadata": {},
   "outputs": [
    {
     "data": {
      "text/plain": [
       "1623687988.272154"
      ]
     },
     "execution_count": 47,
     "metadata": {},
     "output_type": "execute_result"
    }
   ],
   "source": [
    "(datetime.datetime.now()-datetime.timedelta(days = 58)).timestamp()"
   ]
  },
  {
   "cell_type": "code",
   "execution_count": 48,
   "metadata": {},
   "outputs": [
    {
     "data": {
      "text/plain": [
       "1627319092.0"
      ]
     },
     "execution_count": 48,
     "metadata": {},
     "output_type": "execute_result"
    }
   ],
   "source": [
    "(dt-datetime.timedelta(days = 1)).timestamp()"
   ]
  },
  {
   "cell_type": "code",
   "execution_count": 5,
   "metadata": {},
   "outputs": [],
   "source": [
    "msft = yf.Ticker(\"MSFT\")\n",
    "\n",
    "# get stock info\n",
    "msft.info\n",
    "\n",
    "# get historical market data\n",
    "hist = msft.history(period=\"max\")"
   ]
  },
  {
   "cell_type": "code",
   "execution_count": null,
   "metadata": {},
   "outputs": [],
   "source": []
  }
 ],
 "metadata": {
  "kernelspec": {
   "display_name": "Python 3",
   "language": "python",
   "name": "python3"
  },
  "language_info": {
   "codemirror_mode": {
    "name": "ipython",
    "version": 3
   },
   "file_extension": ".py",
   "mimetype": "text/x-python",
   "name": "python",
   "nbconvert_exporter": "python",
   "pygments_lexer": "ipython3",
   "version": "3.8.5"
  }
 },
 "nbformat": 4,
 "nbformat_minor": 4
}
